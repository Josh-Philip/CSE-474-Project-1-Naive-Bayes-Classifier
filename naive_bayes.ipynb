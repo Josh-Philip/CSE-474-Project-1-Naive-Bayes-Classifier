{
 "cells": [
  {
   "cell_type": "markdown",
   "id": "9efb8c2f",
   "metadata": {},
   "source": [
    "# Project 1: Naïve Baye's Classifer"
   ]
  },
  {
   "cell_type": "code",
   "execution_count": 4,
   "id": "256931a6",
   "metadata": {},
   "outputs": [],
   "source": [
    "import numpy as np  #import statement for the NumPy library used to store the data into NumPy arrays and perform mathematical computations\n",
    "import pandas as pd #import statement for the Pandas library used to handle the dataset"
   ]
  },
  {
   "cell_type": "code",
   "execution_count": 20,
   "id": "c4436cb7",
   "metadata": {},
   "outputs": [],
   "source": [
    "df = pd.read_excel('Data.xlsx') #creating and initializing a DataFrame (df) to store Excel file dataset\n",
    "features = df.iloc[:, :30].to_numpy() #takes all the rows and all the attribute columns (x1-x30) and stores them in a NumPy 2D array\n",
    "labels = df.iloc[:, 30].to_numpy() #takes all the rows and the class columns for each row (malignant=0, benign=1) and stores them in a NumPy 1D array"
   ]
  },
  {
   "cell_type": "code",
   "execution_count": null,
   "id": "69734b9e",
   "metadata": {},
   "outputs": [],
   "source": []
  }
 ],
 "metadata": {
  "kernelspec": {
   "display_name": ".venv",
   "language": "python",
   "name": "python3"
  },
  "language_info": {
   "codemirror_mode": {
    "name": "ipython",
    "version": 3
   },
   "file_extension": ".py",
   "mimetype": "text/x-python",
   "name": "python",
   "nbconvert_exporter": "python",
   "pygments_lexer": "ipython3",
   "version": "3.12.4"
  }
 },
 "nbformat": 4,
 "nbformat_minor": 5
}
