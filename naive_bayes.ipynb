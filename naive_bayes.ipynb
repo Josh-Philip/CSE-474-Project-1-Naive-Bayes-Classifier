{
 "cells": [
  {
   "cell_type": "markdown",
   "id": "9efb8c2f",
   "metadata": {},
   "source": [
    "# Project 1: Naïve Baye's Classifer"
   ]
  },
  {
   "cell_type": "code",
   "execution_count": 43,
   "id": "256931a6",
   "metadata": {},
   "outputs": [],
   "source": [
    "import numpy as np  #import statement for the NumPy library used to store the data into NumPy arrays and perform mathematical computations\n",
    "import pandas as pd #import statement for the Pandas library used to handle the dataset"
   ]
  },
  {
   "cell_type": "code",
   "execution_count": 44,
   "id": "c4436cb7",
   "metadata": {},
   "outputs": [],
   "source": [
    "df = pd.read_excel('Data.xlsx') #creating and initializing a DataFrame (df) to store Excel file dataset\n",
    "features = df.iloc[:, :30].to_numpy() #takes all the rows and all the attribute columns (x1-x30) and stores them in a NumPy 2D array\n",
    "labels = df.iloc[:, 30].to_numpy() #takes all the rows and the class columns for each row (malignant=0, benign=1) and stores them in a NumPy 1D array\n",
    "data_size = labels.shape[0] #the total number of rows in the dataset stored as an integer variable"
   ]
  },
  {
   "cell_type": "code",
   "execution_count": 45,
   "id": "69734b9e",
   "metadata": {},
   "outputs": [],
   "source": [
    "def shuffle_arrays(a, b):\n",
    "    if len(a) != len(b):\n",
    "        return              #checks if the arrays are not the same length, if so, break out of the function because they cannot be shuffled in unison\n",
    "    idx = np.random.permutation(len(a)) #generates an array of random indices from 0 to 568 (in this case)\n",
    "    return a[idx], b[idx] #returns the arrays reshuffled \n"
   ]
  },
  {
   "cell_type": "code",
   "execution_count": 46,
   "id": "80181cb9",
   "metadata": {},
   "outputs": [],
   "source": [
    "shuffled_features, shuffled_labels = shuffle_arrays(features, labels) #calls the function on the features and labels arrays to shuffle them in unison\n",
    "train_size = int(data_size * 0.75) #to split the shuffled arrays into 75% training data and remaining 25% test data, \n",
    "train_features, train_labels = shuffled_features[:train_size], shuffled_labels[:train_size] \n",
    "test_features, test_labels = shuffled_features[train_size:], shuffled_labels[train_size:] #creates a training and testing array respectively for the shuffled features and labels according to the 75:25 split"
   ]
  },
  {
   "cell_type": "code",
   "execution_count": 47,
   "id": "c8484050",
   "metadata": {},
   "outputs": [],
   "source": [
    "mal_features = train_features[train_labels == 0] #index the training set feature array using a boolean mask such that the indices correspond to 0 labels\n",
    "ben_features = train_features[train_labels == 1] #index the training set feature array using a boolean mask such that the indices correspond to 1 labels\n",
    "mal_prior = mal_features.shape[0] / train_features.shape[0] #prior for malignant class \n",
    "ben_prior = ben_features.shape[0] / train_features.shape[0] #prior for benign class\n",
    "mean_mal = np.mean(mal_features, axis=0)\n",
    "mean_ben = np.mean(ben_features, axis=0) #using the numpy mean function, the axis=0 parameter ensures the mean is for each column, returns an array consisting of the mean for each 30 features\n",
    "var_mal = np.var(mal_features, axis=0)\n",
    "var_ben = np.var(ben_features, axis=0) #using the numpy var function, like previously, the axis=0 parameter ensures the variance is for each column, returns an array consisting of the variance for each 30 features"
   ]
  },
  {
   "cell_type": "code",
   "execution_count": 48,
   "id": "bc0e41f1",
   "metadata": {},
   "outputs": [],
   "source": [
    "def calculate_bayes(sample, mean, variance):\n",
    "    if not (len(sample) == len(mean) == len(variance)):\n",
    "        return None\n",
    "    var = np.where(variance == 0, 1e-6, variance)\n",
    "    p = -0.5 * np.log(2 * np.pi * var) - (((sample - mean) ** 2) / (2 * var))\n",
    "    return p\n",
    "\n",
    "def predict_class(sample, mean_mal, mean_ben, var_mal, var_ben, mal_prior, ben_prior):\n",
    "    if not (len(sample) == len(mean_mal) == len(var_mal) == len(mean_ben) == len(var_ben)):\n",
    "        return None\n",
    "    mal_total = np.log(mal_prior) + np.sum(calculate_bayes(sample, mean_mal, var_mal))\n",
    "    ben_total = np.log(ben_prior) + np.sum(calculate_bayes(sample, mean_ben, var_ben))\n",
    "\n",
    "    return np.argmax([mal_total, ben_total])"
   ]
  },
  {
   "cell_type": "code",
   "execution_count": null,
   "id": "ff71323b",
   "metadata": {},
   "outputs": [
    {
     "name": "stdout",
     "output_type": "stream",
     "text": [
      "Test Accuracy: 0.3706293706293706\n",
      "143\n"
     ]
    }
   ],
   "source": [
    "correct = 0\n",
    "total = test_labels.shape[0]\n",
    "for i in range(total):\n",
    "    prediction = predict_class(test_features[i], mean_mal, var_mal, mean_ben, var_ben, mal_prior, ben_prior)\n",
    "    if prediction == test_labels[i]:\n",
    "        correct += 1\n",
    "accuracy = correct / total\n",
    "print(f\"Test Accuracy: {accuracy}\")\n",
    "\n",
    "    "
   ]
  }
 ],
 "metadata": {
  "kernelspec": {
   "display_name": ".venv",
   "language": "python",
   "name": "python3"
  },
  "language_info": {
   "codemirror_mode": {
    "name": "ipython",
    "version": 3
   },
   "file_extension": ".py",
   "mimetype": "text/x-python",
   "name": "python",
   "nbconvert_exporter": "python",
   "pygments_lexer": "ipython3",
   "version": "3.12.4"
  }
 },
 "nbformat": 4,
 "nbformat_minor": 5
}
