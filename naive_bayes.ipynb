{
 "cells": [
  {
   "cell_type": "markdown",
   "id": "9efb8c2f",
   "metadata": {},
   "source": [
    "# Project 1: Naïve Baye's Classifer"
   ]
  },
  {
   "cell_type": "code",
   "execution_count": 33,
   "id": "256931a6",
   "metadata": {},
   "outputs": [],
   "source": [
    "import numpy as np  #import statement for the NumPy library used to store the data into NumPy arrays and perform mathematical computations\n",
    "import pandas as pd #import statement for the Pandas library used to handle the dataset"
   ]
  },
  {
   "cell_type": "code",
   "execution_count": 34,
   "id": "c4436cb7",
   "metadata": {},
   "outputs": [],
   "source": [
    "df = pd.read_excel('Data.xlsx') #creating and initializing a DataFrame (df) to store Excel file dataset\n",
    "features = df.iloc[:, :30].to_numpy() #takes all the rows and all the attribute columns (x1-x30) and stores them in a NumPy 2D array\n",
    "labels = df.iloc[:, 30].to_numpy() #takes all the rows and the class columns for each row (malignant=0, benign=1) and stores them in a NumPy 1D array\n",
    "data_size = labels.shape[0] #the total number of rows in the dataset stored as an integer variable\n"
   ]
  },
  {
   "cell_type": "code",
   "execution_count": 35,
   "id": "69734b9e",
   "metadata": {},
   "outputs": [],
   "source": [
    "def shuffle_arrays(a, b):\n",
    "    if len(a) != len(b):\n",
    "        return              #checks if the arrays are not the same length, if so, break out of the function because they cannot be shuffled in unison\n",
    "    idx = np.random.permutation(len(a)) #generates an array of random indices from 0 to 568 (in this case)\n",
    "    return a[idx], b[idx] #returns the arrays reshuffled \n"
   ]
  },
  {
   "cell_type": "code",
   "execution_count": null,
   "id": "80181cb9",
   "metadata": {},
   "outputs": [],
   "source": [
    "shuffled_features, shuffled_labels = shuffle_arrays(features, labels) #calls the function on the features and labels arrays to shuffle them in unison\n",
    "train_size = int(data_size * 0.75) #to split the shuffled arrays into 75% training data and remaining 25% test data, \n",
    "train_features, train_labels = shuffled_features[:train_size], shuffled_labels[:train_size] \n",
    "test_features, test_labels = shuffled_features[train_size:], shuffled_labels[train_size:] #creates a training and testing array respectively for the shuffled features and labels according to the 75:25 split"
   ]
  },
  {
   "cell_type": "code",
   "execution_count": 51,
   "id": "c8484050",
   "metadata": {},
   "outputs": [],
   "source": [
    "malignant_features = train_features[train_labels == 0] #index the training set feature array using a boolean mask such that the indices correspond to 0 labels\n",
    "benign_features = train_features[train_labels == 1] #index the training set feature array using a boolean mask such that the indices correspond to 1 labels\n",
    "p_malignant = malignant_features.shape[0] / train_features.shape[0] #prior for malignant class \n",
    "p_benign = benign_features.shape[0] / train_features.shape[0] #prior for benign class\n",
    "mean_malignant = np.mean(malignant_features, axis=0)\n",
    "mean_benign = np.mean(benign_features, axis=0) #using the numpy mean function, the axis=0 parameter ensures the mean is for each column, returns an array consisting of the mean for each 30 features\n",
    "var_malignant = np.var(malignant_features, axis=0)\n",
    "var_benign = np.var(benign_features, axis=0) #using the numpy var function, like previously, the axis=0 parameter ensures the variance is for each column, returns an array consisting of the variance for each 30 features"
   ]
  },
  {
   "cell_type": "code",
   "execution_count": null,
   "id": "456f67b5",
   "metadata": {},
   "outputs": [],
   "source": []
  }
 ],
 "metadata": {
  "kernelspec": {
   "display_name": ".venv",
   "language": "python",
   "name": "python3"
  },
  "language_info": {
   "codemirror_mode": {
    "name": "ipython",
    "version": 3
   },
   "file_extension": ".py",
   "mimetype": "text/x-python",
   "name": "python",
   "nbconvert_exporter": "python",
   "pygments_lexer": "ipython3",
   "version": "3.12.4"
  }
 },
 "nbformat": 4,
 "nbformat_minor": 5
}
